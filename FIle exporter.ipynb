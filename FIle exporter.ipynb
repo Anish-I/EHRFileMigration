{
 "cells": [
  {
   "attachments": {},
   "cell_type": "markdown",
   "metadata": {},
   "source": [
    "## Importation"
   ]
  },
  {
   "cell_type": "code",
   "execution_count": 3,
   "metadata": {},
   "outputs": [],
   "source": [
    "import os \n",
    "import shutil\n",
    "import re\n",
    "import openpyxl"
   ]
  },
  {
   "cell_type": "markdown",
   "metadata": {},
   "source": [
    "All Paths needed"
   ]
  },
  {
   "cell_type": "code",
   "execution_count": 4,
   "metadata": {},
   "outputs": [],
   "source": [
    "maindisk = \"E:\\\\PID1401623\\\\Final_Export\\\\Patient_Export\"\n",
    "flashdrive = \"D:\\\\\"\n",
    "target_folder_name = \"ProgressNotes\"\n"
   ]
  },
  {
   "cell_type": "markdown",
   "metadata": {},
   "source": [
    "Excel File in which had all the names in the column that weren't compressed properly: Names were compressed as such: \"MJOHNDOE07152003\" in which had their birthday and their gender compressed alongside their name. The code breaks this down, and appends into a tuple called fnames"
   ]
  },
  {
   "cell_type": "code",
   "execution_count": null,
   "metadata": {},
   "outputs": [],
   "source": [
    "# Load the workbook\n",
    "workbook = openpyxl.load_workbook(\"TorringtonActive.xlsx\")\n",
    "\n",
    "# Select the worksheet\n",
    "worksheet = workbook.active\n",
    "\n",
    "# Initialize the list to store the names\n",
    "fnames = []\n",
    "\n",
    "# Loop through column A\n",
    "for cell in worksheet['A']:\n",
    "    # Check if the cell has a value and matches the expected format\n",
    "    if cell.value is not None and re.match(r'^\\d+([A-Z]+),\\s*([A-Z]+[A-Z ]*[A-Z])$', cell.value):\n",
    "        # Extract the first and last names\n",
    "        last_name, first_name = re.findall(r'^\\d+([A-Z]+),\\s*([A-Z]+[A-Z ]*[A-Z])$', cell.value)[0]\n",
    "        # Remove any trailing spaces and gender markers\n",
    "        first_name = re.sub(r'\\s*(F|M)$', '', first_name)\n",
    "        # Append the names to the list\n",
    "        fnames.append((first_name, last_name))\n",
    "\n",
    "# Print the extracted names\n",
    "print(fnames)\n",
    "\n",
    "\n",
    "output_file = \"finishedPatients.csv\"\n",
    "with open(output_file, 'w', newline='') as file:\n",
    "    writer = csv.writer(file)\n",
    "    writer.writerows(fnames)\n",
    "\n",
    "print(\"Leftover names have been written to\", output_file)\n",
    "\n"
   ]
  },
  {
   "cell_type": "markdown",
   "metadata": {},
   "source": [
    "Due to limited flash drive, the project broke into two, and I stored the list into another CSV file to keep track"
   ]
  },
  {
   "cell_type": "code",
   "execution_count": null,
   "metadata": {},
   "outputs": [],
   "source": [
    "import csv\n",
    "\n",
    "# Open the CSV file\n",
    "with open('FullList.csv', 'r') as file:\n",
    "    # Create a CSV reader\n",
    "    reader = csv.reader(file)\n",
    "    names = []\n",
    "\n",
    "    # Iterate over each row in the CSV file\n",
    "    for row in reader:\n",
    "        # Extract the first and last name from column A (index 0)\n",
    "        lastname, firstname = row[0].split(',')\n",
    "        # Append the first and last name as a tuple to the names list\n",
    "        names.append((lastname.strip(), firstname.strip()))\n",
    "\n",
    "# Print the list of names\n",
    "print(names)\n",
    "\n",
    "print(len(names))\n",
    "\n",
    "output_file = \"allnames.csv\"\n",
    "with open(output_file, 'w', newline='') as file:\n",
    "    writer = csv.writer(file)\n",
    "    writer.writerows(names)\n",
    "    \n",
    "    \n",
    "    \n",
    "\n",
    "print(\"Leftover names have been written to\", output_file)\n",
    "\n",
    "\n"
   ]
  },
  {
   "cell_type": "code",
   "execution_count": null,
   "metadata": {},
   "outputs": [],
   "source": [
    "fnpath = E:\\PID1401623\\Final_Export\\Patient_Export\""
   ]
  },
  {
   "cell_type": "markdown",
   "metadata": {},
   "source": [
    "Tuple has been written into CSV"
   ]
  },
  {
   "cell_type": "code",
   "execution_count": null,
   "metadata": {},
   "outputs": [],
   "source": [
    "import csv\n",
    "import os\n",
    "import rarfile\n",
    "import shutil\n",
    "\n",
    "# Specify the output CSV file path\n",
    "output_file = \"leftover_names.csv\"\n",
    "\n",
    "leftover = []\n",
    "for name_tuple in names:\n",
    "    found = False\n",
    "    for fname_tuple in fnames:\n",
    "        if name_tuple[::-1] == fname_tuple:\n",
    "            found = True\n",
    "            break\n",
    "    if not found:\n",
    "        leftover.append(name_tuple)\n",
    "\n",
    "# Write the leftover names to a CSV file\n",
    "output_file = \"leftover_names.csv\"\n",
    "with open(output_file, 'w', newline='') as file:\n",
    "    writer = csv.writer(file)\n",
    "    writer.writerows(leftover)\n",
    "\n",
    "print(\"Leftover names have been written to\", output_file)\n",
    "\n"
   ]
  },
  {
   "attachments": {},
   "cell_type": "markdown",
   "metadata": {},
   "source": [
    "Main part of code in which extracts from the main database, finds the name, breaks the name into two and paste into flash drive in which will have modification"
   ]
  },
  {
   "cell_type": "code",
   "execution_count": null,
   "metadata": {},
   "outputs": [],
   "source": [
    "# create target directory if it doesn't exist\n",
    "temp = []\n",
    "target_dir = os.path.join(flashdrive, target_folder_name)\n",
    "if not os.path.exists(target_dir):\n",
    "    os.makedirs(target_dir)\n",
    "\n",
    "for item in os.listdir(maindisk):\n",
    "    item_path = os.path.join(maindisk, item)\n",
    "    string_parts = item.split('_')\n",
    "    name = (string_parts[1], string_parts[2])\n",
    "    print(name)\n",
    "    if(name in leftover):\n",
    "        print(\"found\")\n",
    "        print(os.listdir(item_path))\n",
    "        temp.append(name)\n",
    "        if target_folder_name in os.listdir(item_path):\n",
    "            item_path = os.path.join(item_path, target_folder_name)\n",
    "            print(\"in\")\n",
    "            for file in os.listdir(item_path):\n",
    "                source_path = os.path.join(item_path, file)\n",
    "                new_path = os.path.join(target_dir, item, file)\n",
    "                shutil.move(source_path, new_path)"
   ]
  },
  {
   "cell_type": "code",
   "execution_count": null,
   "metadata": {},
   "outputs": [],
   "source": [
    "import csv\n",
    "\n",
    "unmatched = []\n",
    "for l in leftover:\n",
    "    if l not in temp:\n",
    "        unmatched.append(l)\n",
    "\n",
    "print(\"Unmatched tuples:\")\n",
    "for unmatched_tuple in unmatched:\n",
    "    print(unmatched_tuple)\n",
    "print(\"Number of unmatched tuples:\", len(unmatched))\n",
    "\n",
    "# Store unmatched tuples in a CSV file\n",
    "filename = \"unmatched.csv\"\n",
    "with open(filename, 'w', newline='') as csvfile:\n",
    "    writer = csv.writer(csvfile)\n",
    "    writer.writerows(unmatched)\n",
    "\n",
    "print(\"Unmatched tuples have been stored in\", filename)\n"
   ]
  },
  {
   "cell_type": "code",
   "execution_count": null,
   "metadata": {},
   "outputs": [],
   "source": [
    "import os\n",
    "import shutil\n",
    "\n",
    "temp = []\n",
    "target_dir = os.path.join(flashdrive, target_folder_name)\n",
    "if not os.path.exists(target_dir):\n",
    "    os.makedirs(target_dir)\n",
    "\n",
    "for item in os.listdir(maindisk):\n",
    "    item_path = os.path.join(maindisk, item)\n",
    "    string_parts = item.split('_')\n",
    "    name = (string_parts[1], string_parts[2])\n",
    "    print(name)\n",
    "    if any(name[0].lower() == left[0].lower() and name[1].lower() == left[1].lower() for left in unmatched):\n",
    "        print(\"found\")\n",
    "        print(os.listdir(item_path))\n",
    "        temp.append(name)\n",
    "        if target_folder_name in os.listdir(item_path):\n",
    "            item_path = os.path.join(item_path, target_folder_name)\n",
    "            print(\"in\")\n",
    "            for file in os.listdir(item_path):\n",
    "                source_path = os.path.join(item_path, file)\n",
    "                new_path = os.path.join(target_dir, item, file)\n",
    "                shutil.move(source_path, new_path)\n",
    "                \n",
    "                \n"
   ]
  },
  {
   "attachments": {},
   "cell_type": "markdown",
   "metadata": {},
   "source": [
    "**This Part is where I am going to combine the op patients that are already in, and add the unmatched names into the OP list**"
   ]
  },
  {
   "cell_type": "code",
   "execution_count": null,
   "metadata": {},
   "outputs": [],
   "source": [
    "import os\n",
    "import csv\n",
    "\n",
    "unmatched = []\n",
    "pathh = \"D:\\\\ProgressNotes\"\n",
    "\n",
    "# Collect unmatched names from files\n",
    "for f in os.listdir(pathh):\n",
    "    item_path = os.path.join(pathh, f)\n",
    "    string_parts = f.split('_')\n",
    "    name = (string_parts[1], string_parts[2])\n",
    "    unmatched.append(name)\n",
    "\n",
    "print(\"Unmatched names:\")\n",
    "for name in unmatched:\n",
    "    print(name)\n",
    "\n",
    "finishedpatients = []\n",
    "\n",
    "# Read names from the CSV file\n",
    "filename = \"finishedPatients.csv\"\n",
    "with open(filename, 'r') as csvfile:\n",
    "    reader = csv.reader(csvfile)\n",
    "    next(reader)  # Skip header row\n",
    "    for row in reader:\n",
    "        name = (row[0], row[1])\n",
    "        finishedpatients.append(name)\n",
    "\n",
    "print(\"Names from the CSV file:\")\n",
    "for name in finishedpatients:\n",
    "    print(name)\n",
    "\n",
    "# Add unmatched names to finishedpatients list\n",
    "for n in unmatched:\n",
    "    finishedpatients.append(n)\n",
    "\n",
    "# Write finishedpatients to alldone.csv\n",
    "filename = \"alldone.csv\"\n",
    "with open(filename, 'w', newline='') as csvfile:\n",
    "    writer = csv.writer(csvfile)# Write header row\n",
    "    for name in finishedpatients:\n",
    "        writer.writerow(name)\n",
    "\n",
    "print(\"Finished patients stored in alldone.csv.\")\n",
    "\n",
    "\n",
    "\n"
   ]
  },
  {
   "cell_type": "code",
   "execution_count": null,
   "metadata": {},
   "outputs": [],
   "source": [
    "leftoverPatients = []\n",
    "\n",
    "for patient in allpatient:\n",
    "    match_found = False\n",
    "    for fp in finishedpatients:\n",
    "        if patient[0].lower() == fp[0].lower() and patient[1].lower() == fp[1].lower():\n",
    "            match_found = True\n",
    "            break\n",
    "    if not match_found:\n",
    "        leftoverPatients.append(patient)\n",
    "\n",
    "print(leftoverPatients)\n",
    "print(len(leftoverPatients))\n"
   ]
  },
  {
   "cell_type": "code",
   "execution_count": null,
   "metadata": {},
   "outputs": [],
   "source": [
    "names = []\n",
    "\n",
    "# Open the text file\n",
    "with open('patientlist.txt', 'r') as file:\n",
    "    # Read each line\n",
    "    for line in file:\n",
    "        # Remove any leading or trailing whitespaces\n",
    "        line = line.strip()\n",
    "        # Split the line into last name and first name\n",
    "        last_name, first_name = line.split(',')\n",
    "        # Append the name to the list\n",
    "        names.append((last_name.strip(), first_name.strip()))\n",
    "\n",
    "# Convert the list to a tuple\n",
    "names_tuple = tuple(names)\n",
    "\n",
    "# Print the tuple of names\n",
    "print(names_tuple)\n",
    "print(len(names_tuple))\n"
   ]
  },
  {
   "cell_type": "code",
   "execution_count": null,
   "metadata": {},
   "outputs": [],
   "source": [
    "import os\n",
    "import shutil\n",
    "\n",
    "# Create target directory if it doesn't exist\n",
    "target_dir = os.path.join(flashdrive, target_folder_name)\n",
    "if not os.path.exists(target_dir):\n",
    "    os.makedirs(target_dir)\n",
    "\n",
    "for item in os.listdir(maindisk):\n",
    "    item_path = os.path.join(maindisk, item)\n",
    "    string_parts = item.split('_')\n",
    "    name = (string_parts[1].strip().lower(), string_parts[2].strip().lower())  # Convert to lowercase\n",
    "    print(\"Checking item:\", item)\n",
    "    print(\"Name extracted from item:\", name)\n",
    "    if name in [(last.lower(), first.lower()) for last, first in names_tuple]:  # Compare with lowercase names\n",
    "        print(\"Match found for item:\", item)\n",
    "        print(\"Contents of item path:\", os.listdir(item_path))\n",
    "        if target_folder_name in os.listdir(item_path):\n",
    "            item_path = os.path.join(item_path, target_folder_name)\n",
    "            print(\"Target folder found:\", target_folder_name)\n",
    "            print(\"Moving files...\")\n",
    "            for file in os.listdir(item_path):\n",
    "                source_path = os.path.join(item_path, file)\n",
    "                new_path = os.path.join(target_dir, item, file)\n",
    "                shutil.move(source_path, new_path)\n",
    "                print(\"Moved file:\", file, \"to\", new_path)\n",
    "    else:\n",
    "        print(\"No match found for item:\", item)\n",
    "    print()  # Add an empty line for readability between iterations\n"
   ]
  },
  {
   "attachments": {},
   "cell_type": "markdown",
   "metadata": {},
   "source": []
  }
 ],
 "metadata": {
  "kernelspec": {
   "display_name": "Python 3",
   "language": "python",
   "name": "python3"
  },
  "language_info": {
   "codemirror_mode": {
    "name": "ipython",
    "version": 3
   },
   "file_extension": ".py",
   "mimetype": "text/x-python",
   "name": "python",
   "nbconvert_exporter": "python",
   "pygments_lexer": "ipython3",
   "version": "3.11.1"
  },
  "orig_nbformat": 4
 },
 "nbformat": 4,
 "nbformat_minor": 2
}
